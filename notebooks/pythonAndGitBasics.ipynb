{
 "cells": [
  {
   "cell_type": "code",
   "execution_count": 1,
   "id": "3358d14d-bb9d-4a6b-8fbe-f3f1e62c7934",
   "metadata": {},
   "outputs": [
    {
     "name": "stdout",
     "output_type": "stream",
     "text": [
      "The Name in bio is of type <class 'str'>\n",
      "The age in bio is of type <class 'int'>\n",
      "The cgpa in bio is of type <class 'float'>\n",
      "The Tools and Libraries in bio is of type <class 'list'>\n",
      "The Experience in years in bio is of type <class 'dict'>\n",
      "The Languages in bio is of type <class 'tuple'>\n"
     ]
    }
   ],
   "source": [
    "bio = {\"Name\":\"Radheen\",\"age\":25,\"cgpa\":8.12,\"Tools and Libraries\":[\"Python\",\"Pyspark\",\"Pandas\",\"Numpy\",\"Tableau\",\"Snaplogic\"], \n",
    "          \"Experience in years\":{\"Jr Data Analyst\": 2, \"Data Analyst\": 1},\n",
    "          \"Languages\": (\"Tamil\", \"English\")}\n",
    "for desc,info in bio.items():\n",
    "    print(f\"The {desc} in bio is of type {type(info)}\")"
   ]
  },
  {
   "cell_type": "code",
   "execution_count": 2,
   "id": "a9115fc9-2031-494c-aedc-e92f09a4de3b",
   "metadata": {},
   "outputs": [
    {
     "name": "stdout",
     "output_type": "stream",
     "text": [
      "Condition didn't meet\n",
      "Condition didn't meet\n",
      "Condition didn't meet\n",
      "Condition didn't meet\n",
      "Experience in years {'Jr Data Analyst': 2, 'Data Analyst': 1}\n",
      "Condition didn't meet\n"
     ]
    }
   ],
   "source": [
    "for desc,info in bio.items():\n",
    "    if desc == \"Experience in years\":\n",
    "        print(desc,info)\n",
    "    else:\n",
    "        print(\"Condition didn't meet\")"
   ]
  },
  {
   "cell_type": "markdown",
   "id": "0a4aaf09-fc20-4aaf-9c0c-949ebbfc0efb",
   "metadata": {},
   "source": [
    "Git and Git Hub connection Basics and commands"
   ]
  },
  {
   "cell_type": "markdown",
   "id": "ff610062-d423-4d97-8e3d-837ad0a60be4",
   "metadata": {},
   "source": [
    "Below are commands to be executed in git bash terminal"
   ]
  },
  {
   "cell_type": "markdown",
   "id": "b57134f3-870b-4197-a2e2-05c17b250a60",
   "metadata": {},
   "source": [
    "cd D:\\ProjectRepo\\"
   ]
  },
  {
   "cell_type": "markdown",
   "id": "6c58cdb5-7264-45b6-a66a-c277fb4f873b",
   "metadata": {},
   "source": [
    "git clone https://github.com/Rady2705/python-ds-upskilling-and-projects-on-the-go.git"
   ]
  },
  {
   "cell_type": "markdown",
   "id": "11316427-3482-42f0-8837-57045afc73b7",
   "metadata": {},
   "source": [
    "cd python-ds-upskilling-and-projects-on-the-go"
   ]
  },
  {
   "cell_type": "markdown",
   "id": "8fe29a72-363f-4db5-b728-c5522ffaccf3",
   "metadata": {},
   "source": [
    "git status"
   ]
  },
  {
   "cell_type": "markdown",
   "id": "fd42449e-25bc-4885-8ffa-0085161f81a9",
   "metadata": {},
   "source": [
    "git add notebooks\\pythonAndGitBasics.ipynb"
   ]
  },
  {
   "cell_type": "markdown",
   "id": "7697bfbe-ea9e-4287-a84d-48c82fdf7f46",
   "metadata": {},
   "source": [
    "git commit -m \"This is a trial commit into mail repo\""
   ]
  },
  {
   "cell_type": "code",
   "execution_count": null,
   "id": "ce1ac0a2-ffdf-427f-ae21-21c54259205d",
   "metadata": {},
   "outputs": [],
   "source": []
  }
 ],
 "metadata": {
  "kernelspec": {
   "display_name": "Python 3 (ipykernel)",
   "language": "python",
   "name": "python3"
  },
  "language_info": {
   "codemirror_mode": {
    "name": "ipython",
    "version": 3
   },
   "file_extension": ".py",
   "mimetype": "text/x-python",
   "name": "python",
   "nbconvert_exporter": "python",
   "pygments_lexer": "ipython3",
   "version": "3.9.18"
  }
 },
 "nbformat": 4,
 "nbformat_minor": 5
}
